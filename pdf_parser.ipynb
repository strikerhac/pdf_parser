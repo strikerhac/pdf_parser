{
 "cells": [
  {
   "cell_type": "markdown",
   "metadata": {},
   "source": [
    "# PDF PROCESSING#####################################################"
   ]
  },
  {
   "cell_type": "code",
   "execution_count": 1,
   "metadata": {},
   "outputs": [],
   "source": [
    "from pdfminer.pdfinterp import PDFResourceManager, PDFPageInterpreter\n",
    "from pdfminer.converter import HTMLConverter,TextConverter,XMLConverter\n",
    "from pdfminer.layout import LAParams\n",
    "from pdfminer.pdfpage import PDFPage\n",
    "from io import BytesIO, StringIO\n",
    "from bs4 import BeautifulSoup\n",
    "from bs4 import NavigableString\n",
    "from bs4 import Tag\n",
    "import re\n",
    "import pandas as pd\n",
    "import operator\n",
    "import math\n",
    "from collections import Counter"
   ]
  },
  {
   "cell_type": "code",
   "execution_count": 2,
   "metadata": {},
   "outputs": [],
   "source": [
    "def convert(fname, case='text', pages=None):\n",
    "    if not pages: pagenums = set();\n",
    "    else:         pagenums = set(pages);      \n",
    "    manager = PDFResourceManager() \n",
    "    la = LAParams()\n",
    "    caching = True\n",
    "\n",
    "    if case == 'text' :\n",
    "        output = StringIO()\n",
    "        converter = TextConverter(manager, output, laparams=la)     \n",
    "    elif case == 'HTML' :\n",
    "        output = StringIO()\n",
    "        converter = HTMLConverter(manager, output, laparams=la)\n",
    "    elif case == 'XML' :\n",
    "        output = StringIO()\n",
    "        converter = XMLConverter(manager, output, laparams=la)\n",
    "    else:\n",
    "        return\n",
    "\n",
    "    interpreter = PDFPageInterpreter(manager, converter)   \n",
    "    infile = open(fname, 'rb')\n",
    "\n",
    "    for page in PDFPage.get_pages(infile, pagenums, caching=caching, check_extractable=True):\n",
    "        interpreter.process_page(page)\n",
    "\n",
    "    convertedPDF = output.getvalue()  \n",
    "\n",
    "    infile.close(); converter.close(); output.close()\n",
    "    return convertedPDF"
   ]
  },
  {
   "cell_type": "code",
   "execution_count": 3,
   "metadata": {},
   "outputs": [],
   "source": [
    "def soup(doc):\n",
    "    soup = BeautifulSoup(doc)\n",
    "    return soup"
   ]
  },
  {
   "cell_type": "code",
   "execution_count": 4,
   "metadata": {},
   "outputs": [],
   "source": [
    "def extractInfoFromHTML(soup):\n",
    "    #extract font size and text from soup object\n",
    "    font_spans = [data for data in soup.select('span') if 'font-size' in str(data) ]\n",
    "    output = []\n",
    "    for i in font_spans:\n",
    "        tup = ()\n",
    "        fonts_size = re.search(r'(?is)(font-size:)(.*?)(px)',str(i.get('style'))).group(2)\n",
    "        fonts_family = re.search(r'(?is)(font-family:)(.*?)(;)',str(i.get('style'))).group(2)\n",
    "        tup = (str(i.text).strip(),fonts_family.strip(), fonts_size.strip())\n",
    "        output.append(tup)\n",
    "    \n",
    "    #make a dictionary with font size as keys and text as value list\n",
    "    dictionary = {}\n",
    "    for index, element in enumerate(output):\n",
    "        if(element[2] not in dictionary):\n",
    "            dictionary[element[2]] = [(element[1], element[0].replace(\"\\n\", \" \"))]\n",
    "        else:\n",
    "            dictionary[element[2]].append((element[1], element[0].replace(\"\\n\", \" \")))\n",
    "\n",
    "    data = pd.DataFrame.from_dict(dictionary, orient='index')\n",
    "            \n",
    "    return (dictionary,data,output)"
   ]
  },
  {
   "cell_type": "code",
   "execution_count": 5,
   "metadata": {},
   "outputs": [],
   "source": [
    "def extractInfoFromXML(soup):\n",
    "    #bottom left and top right coordinates in xml bbox \n",
    "    wordList = soup.find_all('textline')\n",
    "    word = \"\"\n",
    "    font = \"\"\n",
    "    size = \"\"\n",
    "    wList = []\n",
    "    for textline in wordList:\n",
    "        for text in textline:\n",
    "            if isinstance(text, NavigableString):\n",
    "                continue\n",
    "            if isinstance(text, Tag) and text.get('bbox') != None:\n",
    "                word += text.text\n",
    "                #Point size of the majority of its constituent words.\n",
    "                #Font of the majority of its constituent words.\n",
    "                #Coordinates relating to its position on the page.\n",
    "                font = text.get('font')\n",
    "                size = text .get('size')\n",
    "        wList.append((size,word,textline.get('bbox'),font))\n",
    "\n",
    "        word = \"\"\n",
    "    data = pd.DataFrame(wList)\n",
    "    data.columns = [\"font_size\", \"text\", \"bbox\", \"font_family\"]\n",
    "    return data"
   ]
  },
  {
   "cell_type": "code",
   "execution_count": 6,
   "metadata": {},
   "outputs": [],
   "source": [
    "def extractInfoFromXMLnew(soup):\n",
    "    #bottom left and top right coordinates in xml bbox \n",
    "    wordList = soup.find_all('textline')\n",
    "    words_in_textline = \"\"\n",
    "    fonts = {}\n",
    "    point_size = {}\n",
    "    font = \"\"\n",
    "    size = \"\"\n",
    "    wList = []\n",
    "    \n",
    "    for textline in wordList:\n",
    "        for text in textline:\n",
    "            if isinstance(text, NavigableString):\n",
    "                continue\n",
    "            if isinstance(text, Tag) and text.get('bbox') != None:\n",
    "                words_in_textline += text.text\n",
    "                #Point size of the majority of its constituent words.\n",
    "                #Font of the majority of its constituent words.\n",
    "                #Coordinates relating to its position on the page.\n",
    "                if text.get('font') in fonts.keys(): \n",
    "                    fonts[\"\"+text.get('font')] += 1\n",
    "                else:\n",
    "                    fonts[\"\"+text.get('font')] = 1\n",
    "                \n",
    "                if text.get('size') in point_size.keys(): \n",
    "                    point_size[\"\"+text.get('size')] += 1\n",
    "                else:\n",
    "                    point_size[\"\"+text.get('size')] = 1\n",
    "                    \n",
    "        font = max(fonts.items(), key=operator.itemgetter(1))[0]\n",
    "        size = max(point_size.items(), key=operator.itemgetter(1))[0]\n",
    "        bb = textline.get('bbox').split(',')\n",
    "        xm = (float(bb[2])+float(bb[0]))/2\n",
    "        ym = (float(bb[3])+float(bb[1]))/2\n",
    "        wList.append((size,words_in_textline,bb[0],bb[1],xm,ym,bb[2],bb[3],font))\n",
    "        \n",
    "        fonts = {}\n",
    "        point_size = {}\n",
    "        words_in_textline = \"\"\n",
    "        \n",
    "    data = pd.DataFrame(wList)\n",
    "    data.columns = [\"font_size\", \"text\", \"x0\",\"y0\",\"xm\",\"ym\",\"x1\",\"y1\",\"font_family\"]\n",
    "    \n",
    "    return (data)"
   ]
  },
  {
   "cell_type": "code",
   "execution_count": 7,
   "metadata": {},
   "outputs": [],
   "source": [
    "def wrapStringInHTMLWindows(program, url, output):\n",
    "    import datetime\n",
    "    from webbrowser import open_new_tab\n",
    "\n",
    "    now = datetime.datetime.today().strftime(\"%Y%m%d-%H%M%S\")\n",
    "\n",
    "    filename = program + '.html'\n",
    "    f = open(filename,'w')\n",
    "\n",
    "    wrapper = \"\"\"<html>\n",
    "    <head>\n",
    "    <title>%s</title>\n",
    "    </head>\n",
    "    <body><p>URL:%s</p></body>\n",
    "    </html>\"\"\"\n",
    "    \n",
    "    for ele in output:\n",
    "        wrapper.append(ele[0],ele[1],ele[2])\n",
    "\n",
    "    whole = wrapper % (program, now, url)\n",
    "    f.write(whole)\n",
    "    f.close()\n",
    "\n",
    "    open_new_tab(filename)\n"
   ]
  },
  {
   "cell_type": "code",
   "execution_count": 8,
   "metadata": {},
   "outputs": [],
   "source": [
    "def segmentByFontAndSize(data):\n",
    "    #Phase two, geometric segmentation of text regions\n",
    "    dfs = dict(tuple(data.groupby([data['font_size'],data['font_family']])))\n",
    "    df_list = []\n",
    "    for key in dfs.keys():\n",
    "        df_list.append(pd.DataFrame(dfs[key]))\n",
    "    return df_list"
   ]
  },
  {
   "cell_type": "code",
   "execution_count": null,
   "metadata": {},
   "outputs": [],
   "source": [
    "def make_sub_bins(df):\n",
    "    #apply counter at each coordinate\n",
    "    x0 = Counter(list(df['x0'])).most_common()\n",
    "    y0 = Counter(list(df['y0'])).most_common()\n",
    "    xm = Counter(list(df['xm'])).most_common()\n",
    "    ym = Counter(list(df['ym'])).most_common()\n",
    "    x1 = Counter(list(df['x1'])).most_common()\n",
    "    y1 = Counter(list(df['x0'])).most_common()\n",
    "\n",
    "    #select all line with x0 having max count\n",
    "    most_common_x0 = x0[0][0] \n",
    "    dfx0 = df.loc[df['x0'] == most_common_x0]\n",
    "    #select the longest line from above lines\n",
    "    longest_common_line = dfx0.sort_values(by ='x1', axis=0, ascending = False).iloc[0]\n",
    "    x0_line = float(longest_common_line['x0'])\n",
    "    x1_line = float(longest_common_line['x1'])\n",
    "    #create subbins of lines on the left and right side of this line\n",
    "    left_sub_bin = df.loc[df['x1'].astype(float) < x0_line]\n",
    "    right_sub_bin = df.loc[df['x0'].astype(float) > x1_line]\n",
    "    #remove left and right subbin from main dataframe to find the mioddle subbin \n",
    "    temp = df.loc[~df.set_index(list(df.columns)).index.isin(right_sub_bin.set_index(list(right_sub_bin.columns)).index)]\n",
    "    middle_sub_bin = temp.loc[~temp.set_index(list(temp.columns)).index.isin(left_sub_bin.set_index(list(left_sub_bin.columns)).index)]\n",
    "    \n",
    "    return(left_sub_bin,middle_sub_bin,right_sub_bin)"
   ]
  },
  {
   "cell_type": "code",
   "execution_count": 115,
   "metadata": {
    "scrolled": true
   },
   "outputs": [],
   "source": [
    "doc = convert('./data/sample.pdf','XML')\n",
    "s = soup(doc)\n",
    "data = extractInfoFromXMLnew(s)\n",
    "df_list = segmentByFontAndSize(data)"
   ]
  },
  {
   "cell_type": "code",
   "execution_count": 125,
   "metadata": {},
   "outputs": [],
   "source": [
    "sub_bins = make_sub_bins(df_list[4])"
   ]
  },
  {
   "cell_type": "code",
   "execution_count": 130,
   "metadata": {},
   "outputs": [
    {
     "data": {
      "text/html": [
       "<div>\n",
       "<style scoped>\n",
       "    .dataframe tbody tr th:only-of-type {\n",
       "        vertical-align: middle;\n",
       "    }\n",
       "\n",
       "    .dataframe tbody tr th {\n",
       "        vertical-align: top;\n",
       "    }\n",
       "\n",
       "    .dataframe thead th {\n",
       "        text-align: right;\n",
       "    }\n",
       "</style>\n",
       "<table border=\"1\" class=\"dataframe\">\n",
       "  <thead>\n",
       "    <tr style=\"text-align: right;\">\n",
       "      <th></th>\n",
       "      <th>font_size</th>\n",
       "      <th>text</th>\n",
       "      <th>x0</th>\n",
       "      <th>y0</th>\n",
       "      <th>xm</th>\n",
       "      <th>ym</th>\n",
       "      <th>x1</th>\n",
       "      <th>y1</th>\n",
       "      <th>font_family</th>\n",
       "    </tr>\n",
       "  </thead>\n",
       "  <tbody>\n",
       "  </tbody>\n",
       "</table>\n",
       "</div>"
      ],
      "text/plain": [
       "Empty DataFrame\n",
       "Columns: [font_size, text, x0, y0, xm, ym, x1, y1, font_family]\n",
       "Index: []"
      ]
     },
     "execution_count": 130,
     "metadata": {},
     "output_type": "execute_result"
    }
   ],
   "source": [
    "sub_bins[2]"
   ]
  },
  {
   "cell_type": "code",
   "execution_count": null,
   "metadata": {},
   "outputs": [],
   "source": [
    "#phase3 algorithm sudo code"
   ]
  },
  {
   "cell_type": "code",
   "execution_count": null,
   "metadata": {},
   "outputs": [],
   "source": [
    "#step0: sort the bin on the basis of x1 in desc order and set split == true\n",
    "#step1: if len(bin) > 1 select the bounding box with max x1 say it maxb else go to step 6\n",
    "#step2: for b in bin if x1 of b is less then the x0 of maxb then move it into left sub-bin \n",
    "#       and set split == true else split == false\n",
    "#step3: if split == false, throw maxb into temp sub-bin and go to step 1 else throw bin in \n",
    "#       right sub-bin and repeat step 1 to 3 on right and left sub-bins respectively as bin\n",
    "#step5: throw b in new sub-bin and stop the algorithm "
   ]
  }
 ],
 "metadata": {
  "kernelspec": {
   "display_name": "Python 3",
   "language": "python",
   "name": "python3"
  },
  "language_info": {
   "codemirror_mode": {
    "name": "ipython",
    "version": 3
   },
   "file_extension": ".py",
   "mimetype": "text/x-python",
   "name": "python",
   "nbconvert_exporter": "python",
   "pygments_lexer": "ipython3",
   "version": "3.6.9"
  }
 },
 "nbformat": 4,
 "nbformat_minor": 2
}
